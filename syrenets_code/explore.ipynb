{
 "cells": [
  {
   "cell_type": "code",
   "execution_count": 1,
   "id": "f58bf38f-14a7-4e88-9bb0-c496bbbdf18d",
   "metadata": {},
   "outputs": [],
   "source": [
    "from custom_memory import PickleMemory"
   ]
  },
  {
   "cell_type": "code",
   "execution_count": 6,
   "id": "1fb6b1e5-4b81-4ec8-a235-1e13513fa151",
   "metadata": {},
   "outputs": [],
   "source": [
    "memory = PickleMemory()\n",
    "\n",
    "model = memory.torch_load('20230118_181705_best_model.pt')\n",
    "error_stats = memory.load('20230118_181705_error_stats.pt')"
   ]
  },
  {
   "cell_type": "code",
   "execution_count": 10,
   "id": "869da277-f7b9-44bf-bce6-49b36f3cfd34",
   "metadata": {},
   "outputs": [
    {
     "data": {
      "text/plain": [
       "torch.Size([3, 238, 12])"
      ]
     },
     "execution_count": 10,
     "metadata": {},
     "output_type": "execute_result"
    }
   ],
   "source": [
    "model.model.scalings.shape"
   ]
  },
  {
   "cell_type": "code",
   "execution_count": 12,
   "id": "7d25e704-6d88-4b5e-9089-58210777a3c8",
   "metadata": {},
   "outputs": [
    {
     "data": {
      "text/plain": [
       "12"
      ]
     },
     "execution_count": 12,
     "metadata": {},
     "output_type": "execute_result"
    }
   ],
   "source": [
    "n_selectors = model.model.n_selectors"
   ]
  },
  {
   "cell_type": "code",
   "execution_count": null,
   "id": "d50e8c07-01ae-4c66-b619-3608bce13bae",
   "metadata": {},
   "outputs": [],
   "source": [
    "model.model.scalingsscalings = model.model.scalings"
   ]
  },
  {
   "cell_type": "code",
   "execution_count": null,
   "id": "9429727b-18f9-4abd-b7f7-f63ae5e74769",
   "metadata": {},
   "outputs": [],
   "source": [
    "out = torch.zeros(x.shape[0], n_selectors, device=x.device)\n",
    "for i, scaling in enumerate(scalings.to(x.device)):\n",
    "    new_x = torch.cat([x, out], dim=1)\n",
    "    outer_x = self._outer(new_x)\n",
    "    out = (outer_x @ scaling)"
   ]
  }
 ],
 "metadata": {
  "kernelspec": {
   "display_name": "Python 3 (ipykernel)",
   "language": "python",
   "name": "python3"
  },
  "language_info": {
   "codemirror_mode": {
    "name": "ipython",
    "version": 3
   },
   "file_extension": ".py",
   "mimetype": "text/x-python",
   "name": "python",
   "nbconvert_exporter": "python",
   "pygments_lexer": "ipython3",
   "version": "3.10.8"
  }
 },
 "nbformat": 4,
 "nbformat_minor": 5
}
